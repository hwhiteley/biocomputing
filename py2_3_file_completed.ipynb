{
 "cells": [
  {
   "cell_type": "markdown",
   "metadata": {},
   "source": [
    "# Practicing File Input\n",
    "## Checking the contents of a file\n",
    "Sometimes it will be useful to check the contents of a file within a Jupyter Notebook. Here is a simple way of doing it (a commentary follows the code):"
   ]
  },
  {
   "cell_type": "code",
   "execution_count": 2,
   "metadata": {},
   "outputs": [
    {
     "name": "stdout",
     "output_type": "stream",
     "text": [
      "Carrion crow\n",
      "Jay\n",
      "Magpie\n",
      "Jackdaw\n",
      "Raven\n",
      "Chough\n",
      "Hooded crow\n",
      "Rook\n",
      "Clark's nutcracker\n"
     ]
    }
   ],
   "source": [
    "%%bash\n",
    "cat ./corvids.txt"
   ]
  },
  {
   "cell_type": "markdown",
   "metadata": {},
   "source": [
    "Note the following about the preceding code:\n",
    "1. The `%%bash` turns the Notebook cell into a Linux shell known as Bash. \n",
    "    - Linux is an operating system (you may be more familiar with the operating systems Microsoft Windows and/or MacOSX); \n",
    "    - A shell is an environment that allows you to type operating system commands at a prompt (known as the command line).\n",
    "2. Here the Bash shell is allowing you to run commands on the departmental Linux server that JupyterHub is installed on. \n",
    "3. The Linux `cat` (short for \"concatenate\") command is used here to view the contents of a file.\n",
    "\n",
    "Note: We will learn more about Bash in session 7. "
   ]
  },
  {
   "cell_type": "markdown",
   "metadata": {},
   "source": [
    "To do the same in Python, we can use open, and a for loop:"
   ]
  },
  {
   "cell_type": "code",
   "execution_count": 4,
   "metadata": {},
   "outputs": [
    {
     "name": "stdout",
     "output_type": "stream",
     "text": [
      "Carrion crow\n",
      "Jay\n",
      "Magpie\n",
      "Jackdaw\n",
      "Raven\n",
      "Chough\n",
      "Hooded crow\n",
      "Rook\n",
      "Clark's nutcracker\n"
     ]
    }
   ],
   "source": [
    "corvids_file = open('../data/corvids.txt', 'r')\n",
    "for line in corvids_file:\n",
    "    # why do we need the end argument here? try to remove it to find out...\n",
    "    print(line, end='')\n",
    "corvids_file.close()"
   ]
  },
  {
   "cell_type": "markdown",
   "metadata": {},
   "source": [
    "Or using `with`:"
   ]
  },
  {
   "cell_type": "code",
   "execution_count": 4,
   "metadata": {},
   "outputs": [
    {
     "name": "stdout",
     "output_type": "stream",
     "text": [
      "Carrion crow\n",
      "Jay\n",
      "Magpie\n",
      "Jackdaw\n",
      "Raven\n",
      "Chough\n",
      "Hooded crow\n",
      "Rook\n",
      "Clark's nutcracker\n"
     ]
    }
   ],
   "source": [
    "with open('../data/corvids.txt', 'r') as corvids_file:\n",
    "    for line in corvids_file:\n",
    "        print(line, end='')"
   ]
  },
  {
   "cell_type": "markdown",
   "metadata": {},
   "source": [
    "## Modify a for loop\n",
    "Firstly, execute the following short script. Secondly, modify it so that it prints out the count of negative numbers, rather than positive numbers:"
   ]
  },
  {
   "cell_type": "code",
   "execution_count": 1,
   "metadata": {},
   "outputs": [
    {
     "name": "stdout",
     "output_type": "stream",
     "text": [
      "Total numbers: 21\n",
      "Positive numbers: 6\n"
     ]
    }
   ],
   "source": [
    "filename = './numbers.txt'\n",
    "total_numbers = 0\n",
    "total_negative_numbers = 0\n",
    "with open(filename, 'r') as f:\n",
    "    for line in f:\n",
    "        total_numbers += 1\n",
    "        if float(line) < 0:\n",
    "            total_negative_numbers += 1\n",
    "print('Total numbers:', total_numbers)\n",
    "print('Negative numbers:', total_negative_numbers)"
   ]
  },
  {
   "cell_type": "markdown",
   "metadata": {},
   "source": [
    "## Write a for loop\n",
    "Write a script that counts and prints out the number of lines in file `numbers.txt`."
   ]
  },
  {
   "cell_type": "code",
   "execution_count": 5,
   "metadata": {},
   "outputs": [
    {
     "name": "stdout",
     "output_type": "stream",
     "text": [
      "There are: 13 lines in numbers file\n"
     ]
    }
   ],
   "source": [
    "filename = './numbers.txt'\n",
    "line_count = 0\n",
    "for line in filename:\n",
    "    line_count +=1 \n",
    "print(\"There are:\",line_count,\"lines in numbers file\")"
   ]
  }
 ],
 "metadata": {
  "kernelspec": {
   "display_name": "Python(Python 3)",
   "language": "python",
   "name": "python3"
  },
  "language_info": {
   "codemirror_mode": {
    "name": "ipython",
    "version": 3
   },
   "file_extension": ".py",
   "mimetype": "text/x-python",
   "name": "python",
   "nbconvert_exporter": "python",
   "pygments_lexer": "ipython3",
   "version": "3.9.13"
  }
 },
 "nbformat": 4,
 "nbformat_minor": 4
}
